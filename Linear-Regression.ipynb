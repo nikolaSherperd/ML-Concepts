{
 "cells": [
  {
   "cell_type": "code",
   "execution_count": 1,
   "id": "3dbde593-d276-48e3-9dd7-eaecd37776c3",
   "metadata": {},
   "outputs": [],
   "source": [
    "import pandas as pd"
   ]
  },
  {
   "cell_type": "code",
   "execution_count": 8,
   "id": "72f27a22-a061-413f-b26f-054c368c14b7",
   "metadata": {},
   "outputs": [],
   "source": [
    "columns = ['hour_studied', 'Score']"
   ]
  },
  {
   "cell_type": "code",
   "execution_count": 3,
   "id": "63128420-2d8e-49d1-96fb-8a0e9c8351cb",
   "metadata": {},
   "outputs": [
    {
     "data": {
      "text/plain": [
       "['hour_studied', 'Score']"
      ]
     },
     "execution_count": 3,
     "metadata": {},
     "output_type": "execute_result"
    }
   ],
   "source": [
    "columns"
   ]
  },
  {
   "cell_type": "code",
   "execution_count": 12,
   "id": "9e1845f6-c100-4745-94e8-93a54801a084",
   "metadata": {},
   "outputs": [],
   "source": [
    "data = [\n",
    "       [1, 30],\n",
    "       [2, 50],\n",
    "       [3, 70],\n",
    "       [4, 90],\n",
    "       [5, 110]\n",
    "]    "
   ]
  },
  {
   "cell_type": "code",
   "execution_count": 13,
   "id": "24dfb871-11e1-4e6c-aa6f-d3e0c45088b1",
   "metadata": {},
   "outputs": [],
   "source": [
    "df = pd.DataFrame(data, columns=columns)"
   ]
  },
  {
   "cell_type": "code",
   "execution_count": 14,
   "id": "24f2dd45-a1c0-4b54-bd2a-7a9dae5a7518",
   "metadata": {},
   "outputs": [
    {
     "data": {
      "text/html": [
       "<div>\n",
       "<style scoped>\n",
       "    .dataframe tbody tr th:only-of-type {\n",
       "        vertical-align: middle;\n",
       "    }\n",
       "\n",
       "    .dataframe tbody tr th {\n",
       "        vertical-align: top;\n",
       "    }\n",
       "\n",
       "    .dataframe thead th {\n",
       "        text-align: right;\n",
       "    }\n",
       "</style>\n",
       "<table border=\"1\" class=\"dataframe\">\n",
       "  <thead>\n",
       "    <tr style=\"text-align: right;\">\n",
       "      <th></th>\n",
       "      <th>hour_studied</th>\n",
       "      <th>Score</th>\n",
       "    </tr>\n",
       "  </thead>\n",
       "  <tbody>\n",
       "    <tr>\n",
       "      <th>0</th>\n",
       "      <td>1</td>\n",
       "      <td>30</td>\n",
       "    </tr>\n",
       "    <tr>\n",
       "      <th>1</th>\n",
       "      <td>2</td>\n",
       "      <td>50</td>\n",
       "    </tr>\n",
       "    <tr>\n",
       "      <th>2</th>\n",
       "      <td>3</td>\n",
       "      <td>70</td>\n",
       "    </tr>\n",
       "    <tr>\n",
       "      <th>3</th>\n",
       "      <td>4</td>\n",
       "      <td>90</td>\n",
       "    </tr>\n",
       "    <tr>\n",
       "      <th>4</th>\n",
       "      <td>5</td>\n",
       "      <td>110</td>\n",
       "    </tr>\n",
       "  </tbody>\n",
       "</table>\n",
       "</div>"
      ],
      "text/plain": [
       "   hour_studied  Score\n",
       "0             1     30\n",
       "1             2     50\n",
       "2             3     70\n",
       "3             4     90\n",
       "4             5    110"
      ]
     },
     "execution_count": 14,
     "metadata": {},
     "output_type": "execute_result"
    }
   ],
   "source": [
    "df"
   ]
  },
  {
   "cell_type": "code",
   "execution_count": 15,
   "id": "8f1e6e68-113f-40f5-9132-fd33b900619a",
   "metadata": {},
   "outputs": [],
   "source": [
    "import numpy as np\n",
    "\n",
    "# Sample data\n",
    "x = np.array([1, 2, 3, 4, 5])\n",
    "y = np.array([30, 50, 70, 90, 110])\n",
    "\n",
    "# Calculate means\n",
    "x_mean = np.mean(x)\n",
    "y_mean = np.mean(y)\n",
    "\n",
    "# Calculate slope (m)\n",
    "numerator = np.sum((x - x_mean) * (y - y_mean))\n",
    "denominator = np.sum((x - x_mean)**2)\n",
    "m = numerator / denominator\n",
    "\n",
    "# Calculate intercept (b)\n",
    "b = y_mean - m * x_mean\n",
    "\n",
    "# Make predictions\n",
    "y_pred = m * x + b\n"
   ]
  },
  {
   "cell_type": "code",
   "execution_count": null,
   "id": "4c7071a1-d1b0-4897-8610-24c5201cf39d",
   "metadata": {},
   "outputs": [],
   "source": []
  }
 ],
 "metadata": {
  "kernelspec": {
   "display_name": "Python 3 (ipykernel)",
   "language": "python",
   "name": "python3"
  },
  "language_info": {
   "codemirror_mode": {
    "name": "ipython",
    "version": 3
   },
   "file_extension": ".py",
   "mimetype": "text/x-python",
   "name": "python",
   "nbconvert_exporter": "python",
   "pygments_lexer": "ipython3",
   "version": "3.12.5"
  }
 },
 "nbformat": 4,
 "nbformat_minor": 5
}
